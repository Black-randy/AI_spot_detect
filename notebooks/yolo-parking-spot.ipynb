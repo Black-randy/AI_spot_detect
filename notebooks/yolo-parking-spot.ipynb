{
 "cells": [
  {
   "cell_type": "markdown",
   "metadata": {},
   "source": [
    "## YOLO Parking Spot Detection \n"
   ]
  },
  {
   "cell_type": "markdown",
   "metadata": {},
   "source": [
    "###  Setup Environment"
   ]
  },
  {
   "cell_type": "code",
   "execution_count": 60,
   "metadata": {},
   "outputs": [
    {
     "name": "stdout",
     "output_type": "stream",
     "text": [
      "No GPU available, using CPU.\n",
      "Device in use: cpu\n"
     ]
    }
   ],
   "source": [
    "import sys\n",
    "import os\n",
    "import shutil\n",
    "import torch\n",
    "\n",
    "# Add the path to the utils folder to the system path\n",
    "if os.path.basename(os.getcwd()) == 'notebooks':\n",
    "    sys.path.append('../')\n",
    "\n",
    "from utils.functions import is_custom_model\n",
    "\n",
    "repo_path = os.getcwd()\n",
    "repo_path = os.path.dirname(repo_path)\n",
    "\n",
    "yolov8_path = os.path.join(repo_path, 'yolov8')\n",
    "\n",
    "# Check if GPU is available and print device information\n",
    "if torch.cuda.is_available():\n",
    "    device = torch.device('cuda:0')\n",
    "    print(f\"Using GPU: {torch.cuda.get_device_name(0)}\")\n",
    "    print(f\"Number of GPUs available: {torch.cuda.device_count()}\")\n",
    "    print(f\"CUDA version: {torch.version.cuda}\")\n",
    "    print(f\"Current GPU memory allocated: {torch.cuda.memory_allocated(0)} bytes\")\n",
    "    print(f\"Current GPU memory cached: {torch.cuda.memory_reserved(0)} bytes\")\n",
    "else:\n",
    "    device = torch.device('cpu')\n",
    "    print(\"No GPU available, using CPU.\")\n",
    "\n",
    "# You can also print the current device in use\n",
    "print(f\"Device in use: {device}\")\n"
   ]
  },
  {
   "cell_type": "markdown",
   "metadata": {},
   "source": [
    "### Install YOLOv8 "
   ]
  },
  {
   "cell_type": "code",
   "execution_count": 61,
   "metadata": {},
   "outputs": [
    {
     "name": "stdout",
     "output_type": "stream",
     "text": [
      "Requirement already satisfied: ultralytics in c:\\users\\asiri\\appdata\\local\\programs\\python\\python310\\lib\\site-packages (8.2.93)\n",
      "Requirement already satisfied: numpy<2.0.0,>=1.23.0 in c:\\users\\asiri\\appdata\\local\\programs\\python\\python310\\lib\\site-packages (from ultralytics) (1.23.2)\n",
      "Requirement already satisfied: matplotlib>=3.3.0 in c:\\users\\asiri\\appdata\\local\\programs\\python\\python310\\lib\\site-packages (from ultralytics) (3.9.2)\n",
      "Requirement already satisfied: opencv-python>=4.6.0 in c:\\users\\asiri\\appdata\\local\\programs\\python\\python310\\lib\\site-packages (from ultralytics) (4.10.0.84)\n",
      "Requirement already satisfied: pillow>=7.1.2 in c:\\users\\asiri\\appdata\\local\\programs\\python\\python310\\lib\\site-packages (from ultralytics) (10.4.0)\n",
      "Requirement already satisfied: pyyaml>=5.3.1 in c:\\users\\asiri\\appdata\\local\\programs\\python\\python310\\lib\\site-packages (from ultralytics) (6.0.2)\n",
      "Requirement already satisfied: requests>=2.23.0 in c:\\users\\asiri\\appdata\\local\\programs\\python\\python310\\lib\\site-packages (from ultralytics) (2.31.0)\n",
      "Requirement already satisfied: scipy>=1.4.1 in c:\\users\\asiri\\appdata\\local\\programs\\python\\python310\\lib\\site-packages (from ultralytics) (1.13.1)\n",
      "Requirement already satisfied: torch>=1.8.0 in c:\\users\\asiri\\appdata\\local\\programs\\python\\python310\\lib\\site-packages (from ultralytics) (2.4.1)\n",
      "Requirement already satisfied: torchvision>=0.9.0 in c:\\users\\asiri\\appdata\\local\\programs\\python\\python310\\lib\\site-packages (from ultralytics) (0.19.1)\n",
      "Requirement already satisfied: tqdm>=4.64.0 in c:\\users\\asiri\\appdata\\local\\programs\\python\\python310\\lib\\site-packages (from ultralytics) (4.66.5)\n",
      "Requirement already satisfied: psutil in c:\\users\\asiri\\appdata\\local\\programs\\python\\python310\\lib\\site-packages (from ultralytics) (6.0.0)\n",
      "Requirement already satisfied: py-cpuinfo in c:\\users\\asiri\\appdata\\local\\programs\\python\\python310\\lib\\site-packages (from ultralytics) (9.0.0)\n",
      "Requirement already satisfied: pandas>=1.1.4 in c:\\users\\asiri\\appdata\\local\\programs\\python\\python310\\lib\\site-packages (from ultralytics) (2.2.2)\n",
      "Requirement already satisfied: seaborn>=0.11.0 in c:\\users\\asiri\\appdata\\local\\programs\\python\\python310\\lib\\site-packages (from ultralytics) (0.13.2)\n",
      "Requirement already satisfied: ultralytics-thop>=2.0.0 in c:\\users\\asiri\\appdata\\local\\programs\\python\\python310\\lib\\site-packages (from ultralytics) (2.0.6)\n",
      "Requirement already satisfied: contourpy>=1.0.1 in c:\\users\\asiri\\appdata\\local\\programs\\python\\python310\\lib\\site-packages (from matplotlib>=3.3.0->ultralytics) (1.3.0)\n",
      "Requirement already satisfied: cycler>=0.10 in c:\\users\\asiri\\appdata\\local\\programs\\python\\python310\\lib\\site-packages (from matplotlib>=3.3.0->ultralytics) (0.12.1)\n",
      "Requirement already satisfied: fonttools>=4.22.0 in c:\\users\\asiri\\appdata\\local\\programs\\python\\python310\\lib\\site-packages (from matplotlib>=3.3.0->ultralytics) (4.53.1)\n",
      "Requirement already satisfied: kiwisolver>=1.3.1 in c:\\users\\asiri\\appdata\\local\\programs\\python\\python310\\lib\\site-packages (from matplotlib>=3.3.0->ultralytics) (1.4.7)\n",
      "Requirement already satisfied: packaging>=20.0 in c:\\users\\asiri\\appdata\\local\\programs\\python\\python310\\lib\\site-packages (from matplotlib>=3.3.0->ultralytics) (24.1)\n",
      "Requirement already satisfied: pyparsing>=2.3.1 in c:\\users\\asiri\\appdata\\local\\programs\\python\\python310\\lib\\site-packages (from matplotlib>=3.3.0->ultralytics) (3.1.4)\n",
      "Requirement already satisfied: python-dateutil>=2.7 in c:\\users\\asiri\\appdata\\local\\programs\\python\\python310\\lib\\site-packages (from matplotlib>=3.3.0->ultralytics) (2.9.0.post0)\n",
      "Requirement already satisfied: pytz>=2020.1 in c:\\users\\asiri\\appdata\\local\\programs\\python\\python310\\lib\\site-packages (from pandas>=1.1.4->ultralytics) (2024.2)\n",
      "Requirement already satisfied: tzdata>=2022.7 in c:\\users\\asiri\\appdata\\local\\programs\\python\\python310\\lib\\site-packages (from pandas>=1.1.4->ultralytics) (2024.1)\n",
      "Requirement already satisfied: charset-normalizer<4,>=2 in c:\\users\\asiri\\appdata\\local\\programs\\python\\python310\\lib\\site-packages (from requests>=2.23.0->ultralytics) (3.3.2)\n",
      "Requirement already satisfied: idna<4,>=2.5 in c:\\users\\asiri\\appdata\\local\\programs\\python\\python310\\lib\\site-packages (from requests>=2.23.0->ultralytics) (3.8)\n",
      "Requirement already satisfied: urllib3<3,>=1.21.1 in c:\\users\\asiri\\appdata\\local\\programs\\python\\python310\\lib\\site-packages (from requests>=2.23.0->ultralytics) (1.26.20)\n",
      "Requirement already satisfied: certifi>=2017.4.17 in c:\\users\\asiri\\appdata\\local\\programs\\python\\python310\\lib\\site-packages (from requests>=2.23.0->ultralytics) (2024.8.30)\n",
      "Requirement already satisfied: filelock in c:\\users\\asiri\\appdata\\local\\programs\\python\\python310\\lib\\site-packages (from torch>=1.8.0->ultralytics) (3.16.0)\n",
      "Requirement already satisfied: typing-extensions>=4.8.0 in c:\\users\\asiri\\appdata\\local\\programs\\python\\python310\\lib\\site-packages (from torch>=1.8.0->ultralytics) (4.12.2)\n",
      "Requirement already satisfied: sympy in c:\\users\\asiri\\appdata\\local\\programs\\python\\python310\\lib\\site-packages (from torch>=1.8.0->ultralytics) (1.13.2)\n",
      "Requirement already satisfied: networkx in c:\\users\\asiri\\appdata\\local\\programs\\python\\python310\\lib\\site-packages (from torch>=1.8.0->ultralytics) (3.3)\n",
      "Requirement already satisfied: jinja2 in c:\\users\\asiri\\appdata\\local\\programs\\python\\python310\\lib\\site-packages (from torch>=1.8.0->ultralytics) (3.1.4)\n",
      "Requirement already satisfied: fsspec in c:\\users\\asiri\\appdata\\local\\programs\\python\\python310\\lib\\site-packages (from torch>=1.8.0->ultralytics) (2024.9.0)\n",
      "Requirement already satisfied: colorama in c:\\users\\asiri\\appdata\\local\\programs\\python\\python310\\lib\\site-packages (from tqdm>=4.64.0->ultralytics) (0.4.4)\n",
      "Requirement already satisfied: six>=1.5 in c:\\users\\asiri\\appdata\\local\\programs\\python\\python310\\lib\\site-packages (from python-dateutil>=2.7->matplotlib>=3.3.0->ultralytics) (1.16.0)\n",
      "Requirement already satisfied: MarkupSafe>=2.0 in c:\\users\\asiri\\appdata\\local\\programs\\python\\python310\\lib\\site-packages (from jinja2->torch>=1.8.0->ultralytics) (2.1.5)\n",
      "Requirement already satisfied: mpmath<1.4,>=1.1.0 in c:\\users\\asiri\\appdata\\local\\programs\\python\\python310\\lib\\site-packages (from sympy->torch>=1.8.0->ultralytics) (1.3.0)\n",
      "Note: you may need to restart the kernel to use updated packages.\n"
     ]
    },
    {
     "name": "stderr",
     "output_type": "stream",
     "text": [
      "Traceback (most recent call last):\n",
      "  File \"g:\\Project-repo\\utils\\yolov8start.py\", line 78, in <module>\n",
      "    main(opt)\n",
      "  File \"g:\\Project-repo\\utils\\yolov8start.py\", line 53, in main\n",
      "    shutil.rmtree(yolo_path)\n",
      "  File \"c:\\Users\\Asiri\\AppData\\Local\\Programs\\Python\\Python310\\lib\\shutil.py\", line 739, in rmtree\n",
      "    return _rmtree_unsafe(path, onerror)\n",
      "  File \"c:\\Users\\Asiri\\AppData\\Local\\Programs\\Python\\Python310\\lib\\shutil.py\", line 621, in _rmtree_unsafe\n",
      "    onerror(os.rmdir, path, sys.exc_info())\n",
      "  File \"c:\\Users\\Asiri\\AppData\\Local\\Programs\\Python\\Python310\\lib\\shutil.py\", line 619, in _rmtree_unsafe\n",
      "    os.rmdir(path)\n",
      "PermissionError: [WinError 32] The process cannot access the file because it is being used by another process: 'g:\\\\Project-repo\\\\yolov8'\n"
     ]
    }
   ],
   "source": [
    "# Install yolov8\n",
    "%pip install ultralytics\n",
    "\n",
    "# Create yolov8 custom data\n",
    "!python $repo_path/utils/yolov8start.py --reporoot $repo_path\n"
   ]
  },
  {
   "cell_type": "code",
   "execution_count": 62,
   "metadata": {},
   "outputs": [
    {
     "name": "stdout",
     "output_type": "stream",
     "text": [
      "g:\\Project-repo\\yolov8\n"
     ]
    },
    {
     "name": "stderr",
     "output_type": "stream",
     "text": [
      "c:\\Users\\Asiri\\AppData\\Local\\Programs\\Python\\Python310\\lib\\site-packages\\IPython\\core\\magics\\osm.py:417: UserWarning: This is now an optional IPython functionality, setting dhist requires you to install the `pickleshare` library.\n",
      "  self.shell.db['dhist'] = compress_dhist(dhist)[-100:]\n"
     ]
    }
   ],
   "source": [
    "%cd $yolov8_path"
   ]
  },
  {
   "cell_type": "code",
   "execution_count": 63,
   "metadata": {},
   "outputs": [],
   "source": [
    "def yolov8_detect_predict(model, device=\"cpu\", conf=0.25, iou=0.5):\n",
    "    # Check if the custom model is available\n",
    "    model, model_path = is_custom_model(model, \"8\")\n",
    "\n",
    "    # Debug information to ensure the model and paths are correct\n",
    "    print(f\"Model: {model}\")\n",
    "    print(f\"Model path: {model_path}\")\n",
    "    print(f\"Device: {device}\")\n",
    "    print(f\"Confidence Threshold: {conf}\")\n",
    "    print(f\"IOU Threshold: {iou}\")\n",
    "    \n",
    "    # Ensure the model path exists\n",
    "    if not os.path.exists(model_path):\n",
    "        raise FileNotFoundError(f\"Model path does not exist: {model_path}\")\n",
    "\n",
    "    # Ensure the source directory exists\n",
    "    source_path = os.path.join(repo_path, \"data/images\")\n",
    "    if not os.path.exists(source_path):\n",
    "        raise FileNotFoundError(f\"Source path does not exist: {source_path}\")\n",
    "\n",
    "    # Remove existing results if present\n",
    "    results_path = os.path.join(repo_path, f'results/{model[:-3]}/')\n",
    "    if os.path.exists(results_path):\n",
    "        shutil.rmtree(results_path)\n",
    "    \n",
    "    # Debug: Print paths to confirm correct inputs\n",
    "    print(f\"Source path: {source_path}\")\n",
    "    print(f\"Results path: {results_path}\")\n",
    "\n",
    "    # Execute the YOLOv8 predict command\n",
    "    try:\n",
    "        !yolo task=detect mode=predict \\\n",
    "            model=\"{model_path}\" \\\n",
    "            source=\"{source_path}\" \\\n",
    "            save_txt=True \\\n",
    "            exist_ok=True \\\n",
    "            imgsz=640 \\\n",
    "            conf={conf} \\\n",
    "            iou={iou} \\\n",
    "            project=\"{repo_path}/results/\" \\\n",
    "            name=\"{model[:-3]}/yolo_images\" \\\n",
    "            device=\"{device}\"\n",
    "        \n",
    "        # After prediction, move labels to the correct folder\n",
    "        labels_source = os.path.join(repo_path, f'results/{model[:-3]}/yolo_images/labels')\n",
    "        labels_dest = os.path.join(repo_path, f'results/{model[:-3]}/labels')\n",
    "\n",
    "        # Check if the labels were generated\n",
    "        if os.path.exists(labels_source):\n",
    "            shutil.move(labels_source, labels_dest)\n",
    "            print(f\"Labels moved to: {labels_dest}\")\n",
    "        else:\n",
    "            print(\"Warning: Labels directory not found after prediction.\")\n",
    "    \n",
    "    except Exception as e:\n",
    "        print(f\"Error during YOLOv8 prediction: {e}\")\n",
    "\n",
    "    "
   ]
  },
  {
   "cell_type": "markdown",
   "metadata": {},
   "source": [
    "### Detect"
   ]
  },
  {
   "cell_type": "code",
   "execution_count": 64,
   "metadata": {},
   "outputs": [
    {
     "name": "stdout",
     "output_type": "stream",
     "text": [
      "Model: yolov8n_plp_100e.pt\n",
      "Model path: g:\\Project-repo/models/yolov8n_plp_100e.pt\n",
      "Device: cpu\n",
      "Confidence Threshold: 0.25\n",
      "IOU Threshold: 0.5\n",
      "Source path: g:\\Project-repo\\data/images\n",
      "Results path: g:\\Project-repo\\results/yolov8n_plp_100e/\n",
      "Ultralytics YOLOv8.2.93 🚀 Python-3.10.0 torch-2.4.1+cpu CPU (Intel Core(TM) i5-10600KF 4.10GHz)\n",
      "Model summary (fused): 168 layers, 3,006,038 parameters, 0 gradients, 8.1 GFLOPs\n",
      "\n",
      "image 1/5 g:\\Project-repo\\data\\images\\2012-12-15_09_50_05_jpg.rf.f8f403df287c1e0b566efd86a93c31cb.jpg: 640x640 18 vacants, 10 occupieds, 72.0ms\n",
      "image 2/5 g:\\Project-repo\\data\\images\\2012-12-15_12_40_08_jpg.rf.19eccd53caf47869b41ffe2f1628f49a.jpg: 640x640 24 vacants, 4 occupieds, 55.0ms\n",
      "image 3/5 g:\\Project-repo\\data\\images\\2012-12-15_12_45_09_jpg.rf.6fad9df42354f162560aac0e99541dc1.jpg: 640x640 26 vacants, 2 occupieds, 58.0ms\n",
      "image 4/5 g:\\Project-repo\\data\\images\\2013-01-21_09_55_05_jpg.rf.4be2004c66a61909f3d8b0a0f77579fb.jpg: 640x640 28 occupieds, 54.0ms\n",
      "image 5/5 g:\\Project-repo\\data\\images\\2013-01-22_07_55_03_jpg.rf.4d3872f1c5a410a90bc7660777903e4c.jpg: 640x640 27 vacants, 1 occupied, 91.0ms\n",
      "Speed: 2.6ms preprocess, 66.0ms inference, 0.6ms postprocess per image at shape (1, 3, 640, 640)\n",
      "Results saved to \u001b[1mg:\\Project-repo\\results\\yolov8n_plp_100e\\yolo_images\u001b[0m\n",
      "5 labels saved to g:\\Project-repo\\results\\yolov8n_plp_100e\\yolo_images\\labels\n",
      "💡 Learn more at https://docs.ultralytics.com/modes/predict\n",
      "Labels moved to: g:\\Project-repo\\results/yolov8n_plp_100e/labels\n"
     ]
    }
   ],
   "source": [
    "yolov8_detect_predict(f'{repo_path}/models/yolov8n_plp_100e.pt')"
   ]
  }
 ],
 "metadata": {
  "kernelspec": {
   "display_name": "Python 3",
   "language": "python",
   "name": "python3"
  },
  "language_info": {
   "codemirror_mode": {
    "name": "ipython",
    "version": 3
   },
   "file_extension": ".py",
   "mimetype": "text/x-python",
   "name": "python",
   "nbconvert_exporter": "python",
   "pygments_lexer": "ipython3",
   "version": "3.10.0"
  }
 },
 "nbformat": 4,
 "nbformat_minor": 2
}
