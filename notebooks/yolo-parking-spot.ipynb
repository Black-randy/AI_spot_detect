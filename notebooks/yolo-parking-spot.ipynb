{
 "cells": [
  {
   "cell_type": "markdown",
   "metadata": {},
   "source": [
    "## YOLO Parking Spot Detection 🚗🅿️\n"
   ]
  },
  {
   "cell_type": "code",
   "execution_count": 4,
   "metadata": {},
   "outputs": [],
   "source": [
    "import pandas as pd\n",
    "import sys\n",
    "import os\n",
    "\n",
    "# Add the path to the utils folder to the system path\n",
    "if os.path.basename(os.getcwd()) == 'notebooks':\n",
    "    sys.path.append('../')\n",
    "\n",
    "from utils.functions import process_images, get_results_df, mean_df\n",
    "from utils.functions import plot_model_size, plot_model_params, plot_precision_recall, plot_mAP, save_plots\n",
    "from utils.functions import is_custom_model\n",
    "\n",
    "\n",
    "# Get current working directory\n",
    "\n",
    "repo_path = os.path.dirname(os.getcwd())\n",
    "yolov8_path = os.path.join(repo_path, 'yolov8')\n",
    "\n",
    "# Check if GPU is available\n",
    "device = torch.device('cuda:0' if torch.cuda.is_available() else 'cpu')"
   ]
  },
  {
   "cell_type": "code",
   "execution_count": null,
   "metadata": {},
   "outputs": [],
   "source": []
  }
 ],
 "metadata": {
  "kernelspec": {
   "display_name": "Python 3",
   "language": "python",
   "name": "python3"
  },
  "language_info": {
   "codemirror_mode": {
    "name": "ipython",
    "version": 3
   },
   "file_extension": ".py",
   "mimetype": "text/x-python",
   "name": "python",
   "nbconvert_exporter": "python",
   "pygments_lexer": "ipython3",
   "version": "3.10.0"
  }
 },
 "nbformat": 4,
 "nbformat_minor": 2
}
